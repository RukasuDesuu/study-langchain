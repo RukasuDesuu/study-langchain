{
 "cells": [
  {
   "cell_type": "markdown",
   "metadata": {},
   "source": [
    "# LLM Chain"
   ]
  },
  {
   "cell_type": "code",
   "execution_count": 15,
   "metadata": {},
   "outputs": [],
   "source": [
    "with open('apikey.txt') as file:\n",
    "    OPENAI_API_KEY = file.read()"
   ]
  },
  {
   "cell_type": "code",
   "execution_count": 16,
   "metadata": {},
   "outputs": [],
   "source": [
    "from langchain_openai import ChatOpenAI\n",
    "\n",
    "llm = ChatOpenAI(openai_api_key= OPENAI_API_KEY)"
   ]
  },
  {
   "cell_type": "markdown",
   "metadata": {},
   "source": [
    "Agora com o langchain configurado, vamos testar o langchain direto, sem adicionar contexto."
   ]
  },
  {
   "cell_type": "code",
   "execution_count": 17,
   "metadata": {},
   "outputs": [
    {
     "data": {
      "text/plain": [
       "AIMessage(content='Langsmith can help with testing in the following ways:\\n\\n1. Test Case Generation: Langsmith can automatically generate test cases based on the specifications or requirements of the software being tested. It can analyze the code and identify potential areas of failure, generating test cases that cover different scenarios and edge cases.\\n\\n2. Test Scripting: Langsmith can assist in creating automated test scripts by generating code snippets or complete test scripts. It can provide suggestions and recommendations for writing effective and efficient test scripts.\\n\\n3. Test Data Generation: Langsmith can generate test data that covers a wide range of input combinations and data variations. It can create realistic and diverse test data to ensure comprehensive test coverage.\\n\\n4. Test Optimization: Langsmith can analyze existing test suites and identify redundant, overlapping, or ineffective test cases. It can suggest modifications to optimize the test suite, resulting in a more efficient and effective testing process.\\n\\n5. Bug Localization: Langsmith can help identify the root causes of bugs or failures by analyzing test results, logs, and code. It can assist in localizing and narrowing down the causes of failures, making it easier for testers to pinpoint and resolve issues.\\n\\n6. Test Coverage Analysis: Langsmith can provide insights into the coverage of test cases by analyzing the code and identifying areas that are not sufficiently covered. It can help testers ensure that all critical parts of the software are adequately tested.\\n\\n7. Regression Testing: Langsmith can aid in automating regression testing by automatically retesting previously executed test cases whenever changes are made to the software. It can identify impacted areas and prioritize test cases for regression testing, saving time and effort.\\n\\nOverall, Langsmith can enhance the testing process by automating various testing tasks, providing intelligent suggestions, and improving the effectiveness and efficiency of testing efforts.')"
      ]
     },
     "execution_count": 17,
     "metadata": {},
     "output_type": "execute_result"
    }
   ],
   "source": [
    "llm.invoke(\"how can langsmith help with testing?\")"
   ]
  },
  {
   "cell_type": "markdown",
   "metadata": {},
   "source": [
    "AIMessage(content=\n",
    "\n",
    "'Langsmith can help with testing in the following ways:\\n\\n1. \n",
    "\n",
    "Test Case Generation: Langsmith can automatically generate test cases based on the specifications or requirements of the software being tested. It can analyze the code and identify potential areas of failure, generating test cases that cover different scenarios and edge cases.\\n\\n2. \n",
    "\n",
    "Test Scripting: Langsmith can assist in creating automated test scripts by generating code snippets or complete test scripts. It can provide suggestions and recommendations for writing effective and efficient test scripts.\\n\\n3. \n",
    "\n",
    "Test Data Generation: Langsmith can generate test data that covers a wide range of input combinations and data variations. It can create realistic and diverse test data to ensure comprehensive test coverage.\\n\\n4. \n",
    "\n",
    "Test Optimization: Langsmith can analyze existing test suites and identify redundant, overlapping, or ineffective test cases. It can suggest modifications to optimize the test suite, resulting in a more efficient and effective testing process.\\n\\n5. \n",
    "\n",
    "Bug Localization: Langsmith can help identify the root causes of bugs or failures by analyzing test results, logs, and code. It can assist in localizing and narrowing down the causes of failures, making it easier for testers to pinpoint and resolve issues.\\n\\n6. \n",
    "\n",
    "Test Coverage Analysis: Langsmith can provide insights into the coverage of test cases by analyzing the code and identifying areas that are not sufficiently covered. It can help testers ensure that all critical parts of the software are adequately tested.\\n\\n7. \n",
    "\n",
    "Regression Testing: Langsmith can aid in automating regression testing by automatically retesting previously executed test cases whenever changes are made to the software. It can identify impacted areas and prioritize test cases for regression testing, saving time and effort.\\n\\n\n",
    "\n",
    "Overall, Langsmith can enhance the testing process by automating various testing tasks, providing intelligent suggestions, and improving the effectiveness and efficiency of testing efforts.'\n",
    ")"
   ]
  },
  {
   "cell_type": "markdown",
   "metadata": {},
   "source": [
    "A resposta foi pouco precisa pois não foi inserido um contexto para ela.\n",
    "\n",
    "Vamos adicionar então um 'prompt template'"
   ]
  },
  {
   "cell_type": "code",
   "execution_count": 19,
   "metadata": {},
   "outputs": [],
   "source": [
    "from langchain_core.prompts import ChatPromptTemplate\n",
    "\n",
    "prompt = ChatPromptTemplate.from_messages([\n",
    "    (\"system\", \"You are world class technical documentation writer.\"),\n",
    "    (\"user\", \"{input}\")\n",
    "])"
   ]
  },
  {
   "cell_type": "code",
   "execution_count": 20,
   "metadata": {},
   "outputs": [],
   "source": [
    "chain = prompt | llm "
   ]
  },
  {
   "cell_type": "code",
   "execution_count": 21,
   "metadata": {},
   "outputs": [
    {
     "data": {
      "text/plain": [
       "AIMessage(content='Langsmith can help with testing in several ways:\\n\\n1. Test Case Management: Langsmith provides a platform for managing test cases, including creating, organizing, and tracking test cases. It allows you to document test steps, expected results, and actual results, making it easier to manage and execute test cases.\\n\\n2. Test Execution: Langsmith enables you to execute test cases directly within the platform. It provides a user-friendly interface to run tests and record results. This helps testers to effectively execute tests and streamline the testing process.\\n\\n3. Defect Tracking: Langsmith allows you to track and manage defects discovered during testing. You can create defect reports, assign them to team members, and track their status until they are resolved. This helps in improving collaboration and ensures that all identified issues are addressed.\\n\\n4. Test Reporting and Metrics: Langsmith generates comprehensive reports and metrics to provide insights into test coverage, test execution status, and defect trends. These reports help stakeholders to evaluate the quality of the software being tested and make informed decisions.\\n\\n5. Integration with Testing Tools: Langsmith can integrate with various testing tools and frameworks, such as JUnit, Selenium, and Jenkins. This integration allows you to import test results from external tools and leverage existing testing infrastructure, enhancing the efficiency and accuracy of your testing efforts.\\n\\nOverall, Langsmith streamlines the testing process, improves collaboration among team members, and provides valuable insights into the status and quality of the software being tested.')"
      ]
     },
     "execution_count": 21,
     "metadata": {},
     "output_type": "execute_result"
    }
   ],
   "source": [
    "chain.invoke({\"input\": \"how can langsmith help with testing?\"})"
   ]
  },
  {
   "cell_type": "markdown",
   "metadata": {},
   "source": [
    "AIMessage(content=\n",
    "\n",
    "'Langsmith can help with testing in several ways:\\n\\n1. \n",
    "\n",
    "Test Case Management: Langsmith provides a platform for managing test cases, including creating, organizing, and tracking test cases. It allows you to document test steps, expected results, and actual results, making it easier to manage and execute test cases.\\n\\n2. \n",
    "\n",
    "Test Execution: Langsmith enables you to execute test cases directly within the platform. It provides a user-friendly interface to run tests and record results. This helps testers to effectively execute tests and streamline the testing process.\\n\\n3. \n",
    "\n",
    "Defect Tracking: Langsmith allows you to track and manage defects discovered during testing. You can create defect reports, assign them to team members, and track their status until they are resolved. This helps in improving collaboration and ensures that all identified issues are addressed.\\n\\n4. \n",
    "\n",
    "Test Reporting and Metrics: Langsmith generates comprehensive reports and metrics to provide insights into test coverage, test execution status, and defect trends. These reports help stakeholders to evaluate the quality of the software being tested and make informed decisions.\\n\\n5. \n",
    "Integration with Testing Tools: Langsmith can integrate with various testing tools and frameworks, such as JUnit, Selenium, and Jenkins. This integration allows you to import test results from external tools and leverage existing testing infrastructure, enhancing the efficiency and accuracy of your testing efforts.\\n\\n\n",
    "\n",
    "Overall, Langsmith streamlines the testing process, improves collaboration among team members, and provides valuable insights into the status and quality of the software being tested.\n",
    "')"
   ]
  },
  {
   "cell_type": "markdown",
   "metadata": {},
   "source": [
    "Dessa forma a resposta ainda pode ser imprecisa, mas faz com que nossa llm dê uma resposta com uma linguagem mais técnica"
   ]
  },
  {
   "cell_type": "markdown",
   "metadata": {},
   "source": [
    "Além disso seria mais conveniente que a saída seja em string"
   ]
  },
  {
   "cell_type": "code",
   "execution_count": 22,
   "metadata": {},
   "outputs": [],
   "source": [
    "from langchain_core.output_parsers import StrOutputParser\n",
    "\n",
    "output_parser = StrOutputParser()"
   ]
  },
  {
   "cell_type": "markdown",
   "metadata": {},
   "source": [
    "Adicionando a chain"
   ]
  },
  {
   "cell_type": "code",
   "execution_count": 23,
   "metadata": {},
   "outputs": [],
   "source": [
    "chain = prompt | llm | output_parser"
   ]
  },
  {
   "cell_type": "code",
   "execution_count": 24,
   "metadata": {},
   "outputs": [
    {
     "data": {
      "text/plain": [
       "\"Langsmith can greatly assist with testing by providing a powerful and flexible language generation capability. Here are some ways in which Langsmith can be helpful in the testing process:\\n\\n1. Test Case Generation: Langsmith can automatically generate a wide variety of test cases based on predefined criteria. By specifying the desired inputs, conditions, and expected outputs, Langsmith can generate test cases that cover a broad range of scenarios, helping to ensure comprehensive testing.\\n\\n2. Test Data Generation: Langsmith can generate realistic and diverse test data to validate the behavior of a system or application. This can include generating various types of data such as names, addresses, emails, phone numbers, and more. By creating a large and varied dataset, Langsmith aids in testing the system's ability to handle different inputs effectively.\\n\\n3. Scenario Testing: Langsmith allows you to create realistic scenarios that mimic real-world usage of the system. By generating language-based scenarios, you can test the system's response and behavior under different conditions, helping to identify potential issues or uncover edge cases that may not have been considered during development.\\n\\n4. Error Testing: Langsmith can help test error handling and recovery mechanisms by generating specific error scenarios. By generating language-based error messages or faulty inputs, you can verify that the system handles errors gracefully and provides appropriate feedback to users.\\n\\n5. Regression Testing: When changes or updates are made to a system, regression testing ensures that existing functionality is not affected. Langsmith can be used to automate the generation of test cases for regression testing, helping to identify any unintended consequences of the changes made.\\n\\n6. Documentation Testing: Langsmith can be used to test the clarity, accuracy, and completeness of technical documentation. By generating sample queries, commands, or usage scenarios, you can validate that the documentation accurately reflects the system's behavior and provides users with clear instructions.\\n\\nOverall, Langsmith's language generation capabilities can significantly enhance the testing process by automating the generation of test cases, providing diverse and realistic test data, validating system behavior under different scenarios, and aiding in regression testing.\""
      ]
     },
     "execution_count": 24,
     "metadata": {},
     "output_type": "execute_result"
    }
   ],
   "source": [
    "chain.invoke({\"input\": \"how can langsmith help with testing?\"})"
   ]
  },
  {
   "cell_type": "markdown",
   "metadata": {},
   "source": [
    "Agora nossa saída foi direto em uma string!"
   ]
  },
  {
   "cell_type": "markdown",
   "metadata": {},
   "source": [
    "\"Langsmith can greatly assist with testing by providing a powerful and flexible language generation capability. Here are some ways in which Langsmith can be helpful in the testing process:\\n\\n1. Test Case Generation: Langsmith can automatically generate a wide variety of test cases based on predefined criteria. By specifying the desired inputs, conditions, and expected outputs, Langsmith can generate test cases that cover a broad range of scenarios, helping to ensure comprehensive testing.\\n\\n2. Test Data Generation: Langsmith can generate realistic and diverse test data to validate the behavior of a system or application. This can include generating various types of data such as names, addresses, emails, phone numbers, and more. By creating a large and varied dataset, Langsmith aids in testing the system's ability to handle different inputs effectively.\\n\\n3. Scenario Testing: Langsmith allows you to create realistic scenarios that mimic real-world usage of the system. By generating language-based scenarios, you can test the system's response and behavior under different conditions, helping to identify potential issues or uncover edge cases that may not have been considered during development.\\n\\n4. Error Testing: Langsmith can help test error handling and recovery mechanisms by generating specific error scenarios. By generating language-based error messages or faulty inputs, you can verify that the system handles errors gracefully and provides appropriate feedback to users.\\n\\n5. Regression Testing: When changes or updates are made to a system, regression testing ensures that existing functionality is not affected. Langsmith can be used to automate the generation of test cases for regression testing, helping to identify any unintended consequences of the changes made.\\n\\n6. Documentation Testing: Langsmith can be used to test the clarity, accuracy, and completeness of technical documentation. By generating sample queries, commands, or usage scenarios, you can validate that the documentation accurately reflects the system's behavior and provides users with clear instructions.\\n\\nOverall, Langsmith's language generation capabilities can significantly enhance the testing process by automating the generation of test cases, providing diverse and realistic test data, validating system behavior under different scenarios, and aiding in regression testing.\""
   ]
  },
  {
   "cell_type": "markdown",
   "metadata": {},
   "source": [
    "# Retrieval Chain   "
   ]
  },
  {
   "cell_type": "markdown",
   "metadata": {},
   "source": [
    "Para conseguirmos uma resposta ainda melhror, precisamos adicionar contexto. Podemos fazer isso com 'retrieval'."
   ]
  },
  {
   "cell_type": "markdown",
   "metadata": {},
   "source": [
    "O 'retrieval' é essencialmente útil quando você quer passar muita informação para passar à LLM diretamente. \n",
    "Você pode usar o retrieval para buscar apenas as partes mais importantes dos dados."
   ]
  },
  {
   "cell_type": "markdown",
   "metadata": {},
   "source": [
    "### !!!!!!!!!!!!!!!!!!! PAREI EM \"pip install beautifulsoup4\"\n",
    "https://python.langchain.com/docs/get_started/quickstart"
   ]
  }
 ],
 "metadata": {
  "kernelspec": {
   "display_name": "Python 3",
   "language": "python",
   "name": "python3"
  },
  "language_info": {
   "codemirror_mode": {
    "name": "ipython",
    "version": 3
   },
   "file_extension": ".py",
   "mimetype": "text/x-python",
   "name": "python",
   "nbconvert_exporter": "python",
   "pygments_lexer": "ipython3",
   "version": "3.11.7"
  }
 },
 "nbformat": 4,
 "nbformat_minor": 2
}
